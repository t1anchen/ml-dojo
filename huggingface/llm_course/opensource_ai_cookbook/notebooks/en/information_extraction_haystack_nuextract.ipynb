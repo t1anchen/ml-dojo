{
  "cells": [
    {
      "cell_type": "markdown",
      "metadata": {
        "id": "QA_djFCxPocg"
      },
      "source": [
        "# Information Extraction with Haystack and NuExtract\n",
        "\n",
        "*Authored by: [Stefano Fiorucci](https://github.com/anakin87)*\n",
        "\n",
        "In this notebook, we will see how to automate Information Extraction from textual data using Language Models.\n",
        "\n",
        "🎯 Goal: create an application to extract specific information from a given text or URL, following a user-defined structure.\n",
        "\n",
        "🧰 **Stack**\n",
        "- [Haystack 🏗️](https://haystack.deepset.ai?utm_campaign=developer-relations&utm_source=hf-cookbook): a customizable orchestration framework for building LLM applications. We will use Haystack to build the Information Extraction Pipeline.\n",
        "\n",
        "- [NuExtract](https://huggingface.co/numind/NuExtract): a small Language Model, specifically fine-tuned for structured data extraction."
      ]
    },
    {
      "cell_type": "markdown",
      "metadata": {
        "id": "5Lzbl1yAZRUH"
      },
      "source": [
        "## Install dependencies"
      ]
    },
    {
      "cell_type": "code",
      "execution_count": null,
      "metadata": {
        "execution": {
          "iopub.execute_input": "2024-07-05T17:01:12.299629Z",
          "iopub.status.busy": "2024-07-05T17:01:12.299255Z",
          "iopub.status.idle": "2024-07-05T17:01:28.511696Z",
          "shell.execute_reply": "2024-07-05T17:01:28.510490Z",
          "shell.execute_reply.started": "2024-07-05T17:01:12.299594Z"
        },
        "id": "zwDxct7PPUgZ",
        "trusted": true
      },
      "outputs": [],
      "source": [
        "! pip install haystack-ai trafilatura transformers pyvis"
      ]
    },
    {
      "cell_type": "markdown",
      "metadata": {
        "id": "6eWvzas4iFW2"
      },
      "source": [
        "## Components\n",
        "\n",
        "Haystack has two main concepts: [Components and Pipelines](https://docs.haystack.deepset.ai/docs/components_overview?utm_campaign=developer-relations&utm_source=hf-cookbook).\n",
        "\n",
        "🧩 **Components** are building blocks that perform a single task: file conversion, text generation, embedding creation...\n",
        "\n",
        "➿ **Pipelines** allow you to define the flow of data through your LLM application, by combining Components in a directed (cyclic) graph.\n",
        "\n",
        "*We will now introduce the various components of our Information Extraction application. Afterwards, we will integrate them into a Pipeline.*"
      ]
    },
    {
      "cell_type": "markdown",
      "metadata": {
        "id": "cetMTw5V-nDG"
      },
      "source": [
        "### `LinkContentFetcher` and `HTMLToDocument`: extract text from web pages\n",
        "\n",
        "In our experiment, we will extract data from startup funding announcements found on the web.\n",
        "\n",
        "To download web pages and extract text, we use two components:\n",
        "- [`LinkContentFetcher`](https://docs.haystack.deepset.ai/docs/linkcontentfetcher?utm_campaign=developer-relations&utm_source=hf-cookbook): fetches the content of some URLs and returns a list of content streams (as [`ByteStream` objects](https://docs.haystack.deepset.ai/docs/data-classes#bytestream?utm_campaign=developer-relations&utm_source=hf-cookbook)).\n",
        "- [`HTMLToDocument`](https://docs.haystack.deepset.ai/docs/htmltodocument?utm_campaign=developer-relations&utm_source=hf-cookbook): converts HTML sources into textual [`Documents`](https://docs.haystack.deepset.ai/docs/data-classes#document?utm_campaign=developer-relations&utm_source=hf-cookbook)."
      ]
    },
    {
      "cell_type": "code",
      "execution_count": null,
      "metadata": {
        "colab": {
          "base_uri": "https://localhost:8080/"
        },
        "execution": {
          "iopub.execute_input": "2024-07-05T17:01:28.515270Z",
          "iopub.status.busy": "2024-07-05T17:01:28.514606Z",
          "iopub.status.idle": "2024-07-05T17:01:34.711768Z",
          "shell.execute_reply": "2024-07-05T17:01:34.710676Z",
          "shell.execute_reply.started": "2024-07-05T17:01:28.515224Z"
        },
        "id": "tRO67BDoqdLq",
        "outputId": "8c9a3f0a-d3c8-4beb-ee6a-016717431bb3",
        "trusted": true
      },
      "outputs": [
        {
          "name": "stdout",
          "output_type": "stream",
          "text": [
            "{'documents': [Document(id=65bb1ce4b6db2f154d3acfa145fa03363ef93f751fb8599dcec3aaf75aa325b9, content: 'This domain is for use in illustrative examples in documents. You may use this domain in literature ...', meta: {'content_type': 'text/html', 'url': 'https://example.com/'})]}\n"
          ]
        }
      ],
      "source": [
        "from haystack.components.fetchers import LinkContentFetcher\n",
        "from haystack.components.converters import HTMLToDocument\n",
        "\n",
        "\n",
        "fetcher = LinkContentFetcher()\n",
        "\n",
        "streams = fetcher.run(urls=[\"https://example.com/\"])[\"streams\"]\n",
        "\n",
        "converter = HTMLToDocument()\n",
        "docs = converter.run(sources=streams)\n",
        "\n",
        "print(docs)"
      ]
    },
    {
      "cell_type": "markdown",
      "metadata": {
        "id": "5qyEBSDJEO1w"
      },
      "source": [
        "### `HuggingFaceLocalGenerator`: load and try the model\n",
        "\n",
        "We use the [`HuggingFaceLocalGenerator`](https://docs.haystack.deepset.ai/docs/huggingfacelocalgenerator?utm_campaign=developer-relations&utm_source=hf-cookbook), a text generation component that allows loading a model hosted on Hugging Face using the Transformers library.\n",
        "\n",
        "Haystack supports many other [Generators](https://docs.haystack.deepset.ai/docs/generators?utm_campaign=developer-relations&utm_source=hf-cookbook), including [`HuggingFaceAPIGenerator`](https://docs.haystack.deepset.ai/docs/huggingfaceapigenerator?utm_campaign=developer-relations&utm_source=hf-cookbook) (compatible with Hugging Face APIs and TGI).\n",
        "\n",
        "We load [NuExtract](https://huggingface.co/numind/NuExtract), a model fine-tuned from `microsoft/Phi-3-mini-4k-instruct` to perform structured data extraction from text. The model size is 3.8B parameters. Other variants are also available: `NuExtract-tiny` (0.5B) and `NuExtract-large` (7B).\n",
        "\n",
        "The model is loaded with `bfloat16` precision to fit in Colab with negligible performance loss compared to FP32, as suggested in the model card.\n",
        "\n",
        "#### Notes on Flash Attention\n",
        "\n",
        "At inference time, you will probably see a warning saying: \"You are not running the flash-attention implementation\".\n",
        "\n",
        "GPUs available on free environments like Colab or Kaggle do not support it, so we decided to not use it in this notebook.\n",
        "\n",
        "In case your GPU architecture supports it ([details](https://github.com/Dao-AILab/flash-attention)), you can install it and get a speed-up as follows:\n",
        "```bash\n",
        "pip install flash-attn --no-build-isolation\n",
        "```\n",
        "\n",
        "Then add `\"attn_implementation\": \"flash_attention_2\"` to `model_kwargs`."
      ]
    },
    {
      "cell_type": "code",
      "execution_count": null,
      "metadata": {
        "execution": {
          "iopub.execute_input": "2024-07-05T17:01:34.713833Z",
          "iopub.status.busy": "2024-07-05T17:01:34.713339Z",
          "iopub.status.idle": "2024-07-05T17:02:54.005033Z",
          "shell.execute_reply": "2024-07-05T17:02:54.003847Z",
          "shell.execute_reply.started": "2024-07-05T17:01:34.713801Z"
        },
        "id": "mUA8M0eed6Bo",
        "trusted": true
      },
      "outputs": [],
      "source": [
        "from haystack.components.generators import HuggingFaceLocalGenerator\n",
        "import torch\n",
        "\n",
        "generator = HuggingFaceLocalGenerator(model=\"numind/NuExtract\",\n",
        "                                      huggingface_pipeline_kwargs={\"model_kwargs\": {\"torch_dtype\":torch.bfloat16}})\n",
        "\n",
        "# effectively load the model (warm_up is automatically invoked when the generator is part of a Pipeline)\n",
        "generator.warm_up()"
      ]
    },
    {
      "cell_type": "markdown",
      "metadata": {
        "id": "2SeDKME6N6Y7"
      },
      "source": [
        "The model supports a specific prompt structure, as can be inferred from the model card.\n",
        "\n",
        "Let's manually create a prompt to try the model. Later, we will see how to dynamically create the prompt based on different inputs."
      ]
    },
    {
      "cell_type": "code",
      "execution_count": null,
      "metadata": {
        "colab": {
          "base_uri": "https://localhost:8080/"
        },
        "execution": {
          "iopub.execute_input": "2024-07-05T17:02:54.007205Z",
          "iopub.status.busy": "2024-07-05T17:02:54.006458Z",
          "iopub.status.idle": "2024-07-05T17:03:00.797028Z",
          "shell.execute_reply": "2024-07-05T17:03:00.796041Z",
          "shell.execute_reply.started": "2024-07-05T17:02:54.007171Z"
        },
        "id": "ZtxKbGG6L4GK",
        "outputId": "70748ac6-5bbe-4806-8e0f-1d1988a3991a",
        "trusted": true
      },
      "outputs": [
        {
          "name": "stderr",
          "output_type": "stream",
          "text": [
            "You are not running the flash-attention implementation, expect numerical differences.\n"
          ]
        },
        {
          "name": "stdout",
          "output_type": "stream",
          "text": [
            "{'replies': ['{\\n    \"Car\": {\\n        \"Name\": \"Fiat Panda\",\\n        \"Manufacturer\": \"Fiat\",\\n        \"Designers\": [\\n            \"Giorgetto Giugiaro\",\\n            \"Aldo Mantovani\",\\n            \"Giuliano Biasio\",\\n            \"Roberto Giolito\"\\n        ],\\n        \"Number of units produced\": \"over 7.8 million\"\\n    }\\n}\\n']}\n"
          ]
        }
      ],
      "source": [
        "prompt=\"\"\"<|input|>\\n### Template:\n",
        "{\n",
        "    \"Car\": {\n",
        "        \"Name\": \"\",\n",
        "        \"Manufacturer\": \"\",\n",
        "        \"Designers\": [],\n",
        "        \"Number of units produced\": \"\",\n",
        "    }\n",
        "}\n",
        "### Text:\n",
        "The Fiat Panda is a city car manufactured and marketed by Fiat since 1980, currently in its third generation. The first generation Panda, introduced in 1980, was a two-box, three-door hatchback designed by Giorgetto Giugiaro and Aldo Mantovani of Italdesign and was manufactured through 2003 — receiving an all-wheel drive variant in 1983. SEAT of Spain marketed a variation of the first generation Panda under license to Fiat, initially as the Panda and subsequently as the Marbella (1986–1998).\n",
        "\n",
        "The second-generation Panda, launched in 2003 as a 5-door hatchback, was designed by Giuliano Biasio of Bertone, and won the European Car of the Year in 2004. The third-generation Panda debuted at the Frankfurt Motor Show in September 2011, was designed at Fiat Centro Stilo under the direction of Roberto Giolito and remains in production in Italy at Pomigliano d'Arco.[1] The fourth-generation Panda is marketed as Grande Panda, to differentiate it with the third-generation that is sold alongside it. Developed under Stellantis, the Grande Panda is produced in Serbia.\n",
        "\n",
        "In 40 years, Panda production has reached over 7.8 million,[2] of those, approximately 4.5 million were the first generation.[3] In early 2020, its 23-year production was counted as the twenty-ninth most long-lived single generation car in history by Autocar.[4] During its initial design phase, Italdesign referred to the car as il Zero. Fiat later proposed the name Rustica. Ultimately, the Panda was named after Empanda, the Roman goddess and patroness of travelers.\n",
        "<|output|>\n",
        "\"\"\"\n",
        "\n",
        "result = generator.run(prompt=prompt)\n",
        "print(result)"
      ]
    },
    {
      "cell_type": "markdown",
      "metadata": {
        "id": "5kh320kJdARQ"
      },
      "source": [
        "Nice ✅"
      ]
    },
    {
      "cell_type": "markdown",
      "metadata": {
        "id": "ZEIpUGBol1yj"
      },
      "source": [
        "### `PromptBuilder`: dynamically create prompts\n",
        "\n",
        "The [`PromptBuilder`](https://docs.haystack.deepset.ai/docs/promptbuilder?utm_campaign=developer-relations&utm_source=hf-cookbook) is initialized with a Jinja2 prompt template and renders it by filling in parameters passed through keyword arguments.\n",
        "\n",
        "Our prompt template reproduces the structure shown in [model card](https://huggingface.co/numind/NuExtract).\n",
        "\n",
        "During our experiments, we discovered that indenting the schema is particularly important to ensure good results. This probably stems from how the model was trained."
      ]
    },
    {
      "cell_type": "code",
      "execution_count": null,
      "metadata": {
        "execution": {
          "iopub.execute_input": "2024-07-05T17:03:00.800693Z",
          "iopub.status.busy": "2024-07-05T17:03:00.800275Z",
          "iopub.status.idle": "2024-07-05T17:03:00.819117Z",
          "shell.execute_reply": "2024-07-05T17:03:00.818214Z",
          "shell.execute_reply.started": "2024-07-05T17:03:00.800663Z"
        },
        "id": "uKIikH_wPrRk",
        "trusted": true
      },
      "outputs": [],
      "source": [
        "from haystack.components.builders import PromptBuilder\n",
        "from haystack import Document\n",
        "\n",
        "prompt_template = '''<|input|>\n",
        "### Template:\n",
        "{{ schema | tojson(indent=4) }}\n",
        "{% for example in examples %}\n",
        "### Example:\n",
        "{{ example | tojson(indent=4) }}\\n\n",
        "{% endfor %}\n",
        "### Text\n",
        "{{documents[0].content}}\n",
        "<|output|>\n",
        "'''\n",
        "\n",
        "prompt_builder = PromptBuilder(template=prompt_template)"
      ]
    },
    {
      "cell_type": "code",
      "execution_count": null,
      "metadata": {
        "colab": {
          "base_uri": "https://localhost:8080/"
        },
        "execution": {
          "iopub.execute_input": "2024-07-05T17:03:00.820820Z",
          "iopub.status.busy": "2024-07-05T17:03:00.820477Z",
          "iopub.status.idle": "2024-07-05T17:03:00.830614Z",
          "shell.execute_reply": "2024-07-05T17:03:00.829713Z",
          "shell.execute_reply.started": "2024-07-05T17:03:00.820786Z"
        },
        "id": "wJxenI9Ynr6y",
        "outputId": "b8e40999-46ec-46c0-c130-7bd137923799",
        "trusted": true
      },
      "outputs": [
        {
          "name": "stdout",
          "output_type": "stream",
          "text": [
            "<|input|>\n",
            "### Template:\n",
            "{\n",
            "    \"Car\": {\n",
            "        \"Designers\": [],\n",
            "        \"Manufacturer\": \"\",\n",
            "        \"Name\": \"\",\n",
            "        \"Number of units produced\": \"\"\n",
            "    }\n",
            "}\n",
            "\n",
            "### Text\n",
            "The Fiat Panda is a city car...\n",
            "<|output|>\n"
          ]
        }
      ],
      "source": [
        "example_document = Document(content=\"The Fiat Panda is a city car...\")\n",
        "\n",
        "example_schema = {\n",
        "    \"Car\": {\n",
        "        \"Name\": \"\",\n",
        "        \"Manufacturer\": \"\",\n",
        "        \"Designers\": [],\n",
        "        \"Number of units produced\": \"\",\n",
        "    }\n",
        "}\n",
        "\n",
        "prompt=prompt_builder.run(documents=[example_document], schema=example_schema)[\"prompt\"]\n",
        "\n",
        "print(prompt)"
      ]
    },
    {
      "cell_type": "markdown",
      "metadata": {
        "id": "-lcw0HOV-Ji-"
      },
      "source": [
        "Works well ✅"
      ]
    },
    {
      "cell_type": "markdown",
      "metadata": {
        "id": "eoz2t_UtI_XZ"
      },
      "source": [
        "### `OutputAdapter`\n",
        "\n",
        "You may have noticed that the result of the extraction is the first element of the `replies` list and consists of a JSON string.\n",
        "\n",
        "We would like to have a dictionary for each source document.\n",
        "To perform this transformation in a pipeline, we can use the [`OutputAdapter`](https://docs.haystack.deepset.ai/docs/outputadapter?utm_campaign=developer-relations&utm_source=hf-cookbook)."
      ]
    },
    {
      "cell_type": "code",
      "execution_count": null,
      "metadata": {
        "colab": {
          "base_uri": "https://localhost:8080/"
        },
        "execution": {
          "iopub.execute_input": "2024-07-05T17:03:00.831997Z",
          "iopub.status.busy": "2024-07-05T17:03:00.831691Z",
          "iopub.status.idle": "2024-07-05T17:03:00.847867Z",
          "shell.execute_reply": "2024-07-05T17:03:00.846811Z",
          "shell.execute_reply.started": "2024-07-05T17:03:00.831951Z"
        },
        "id": "shU6nb57F37v",
        "outputId": "c02f5c2f-0295-4859-cff7-a2a1e854855f",
        "trusted": true
      },
      "outputs": [
        {
          "name": "stdout",
          "output_type": "stream",
          "text": [
            "{'output': {'Car': {'Name': 'Fiat Panda', 'Manufacturer': 'Fiat', 'Designers': ['Giorgetto Giugiaro', 'Aldo Mantovani', 'Giuliano Biasio', 'Roberto Giolito'], 'Number of units produced': 'over 7.8 million'}}}\n"
          ]
        }
      ],
      "source": [
        "import json\n",
        "from haystack.components.converters import OutputAdapter\n",
        "\n",
        "\n",
        "adapter = OutputAdapter(template=\"\"\"{{ replies[0]| replace(\"'\",'\"') | json_loads}}\"\"\",\n",
        "                                         output_type=dict,\n",
        "                                         custom_filters={\"json_loads\": json.loads})\n",
        "\n",
        "print(adapter.run(**result))"
      ]
    },
    {
      "cell_type": "markdown",
      "metadata": {
        "id": "IUH1MD2o-_F-"
      },
      "source": [
        "## Information Extraction Pipeline"
      ]
    },
    {
      "cell_type": "markdown",
      "metadata": {
        "id": "9idAy7lR-_F-"
      },
      "source": [
        "### Build the Pipeline\n",
        "\n",
        "We can now [create our Pipeline](https://docs.haystack.deepset.ai/docs/creating-pipelines?utm_campaign=developer-relations&utm_source=hf-cookbook) by adding and connecting the individual components."
      ]
    },
    {
      "cell_type": "code",
      "execution_count": null,
      "metadata": {
        "colab": {
          "base_uri": "https://localhost:8080/"
        },
        "execution": {
          "iopub.execute_input": "2024-07-05T17:03:00.849772Z",
          "iopub.status.busy": "2024-07-05T17:03:00.849310Z",
          "iopub.status.idle": "2024-07-05T17:03:00.861951Z",
          "shell.execute_reply": "2024-07-05T17:03:00.860945Z",
          "shell.execute_reply.started": "2024-07-05T17:03:00.849741Z"
        },
        "id": "_7g600GG-_F-",
        "outputId": "88d31346-291c-4f6a-8e45-1dca4b3997ca",
        "trusted": true
      },
      "outputs": [
        {
          "data": {
            "text/plain": [
              "<haystack.core.pipeline.pipeline.Pipeline object at 0x795de4121630>\n",
              "🚅 Components\n",
              "  - fetcher: LinkContentFetcher\n",
              "  - converter: HTMLToDocument\n",
              "  - prompt_builder: PromptBuilder\n",
              "  - generator: HuggingFaceLocalGenerator\n",
              "  - adapter: OutputAdapter\n",
              "🛤️ Connections\n",
              "  - fetcher.streams -> converter.sources (List[ByteStream])\n",
              "  - converter.documents -> prompt_builder.documents (List[Document])\n",
              "  - prompt_builder.prompt -> generator.prompt (str)\n",
              "  - generator.replies -> adapter.replies (List[str])"
            ]
          },
          "execution_count": 8,
          "metadata": {},
          "output_type": "execute_result"
        }
      ],
      "source": [
        "from haystack import Pipeline\n",
        "\n",
        "ie_pipe = Pipeline()\n",
        "ie_pipe.add_component(\"fetcher\", fetcher)\n",
        "ie_pipe.add_component(\"converter\", converter)\n",
        "ie_pipe.add_component(\"prompt_builder\", prompt_builder)\n",
        "ie_pipe.add_component(\"generator\", generator)\n",
        "ie_pipe.add_component(\"adapter\", adapter)\n",
        "\n",
        "ie_pipe.connect(\"fetcher\", \"converter\")\n",
        "ie_pipe.connect(\"converter\", \"prompt_builder\")\n",
        "ie_pipe.connect(\"prompt_builder\", \"generator\")\n",
        "ie_pipe.connect(\"generator\", \"adapter\")"
      ]
    },
    {
      "cell_type": "code",
      "execution_count": null,
      "metadata": {
        "execution": {
          "iopub.execute_input": "2024-07-05T17:03:00.863446Z",
          "iopub.status.busy": "2024-07-05T17:03:00.863147Z",
          "iopub.status.idle": "2024-07-05T17:03:00.874010Z",
          "shell.execute_reply": "2024-07-05T17:03:00.873186Z",
          "shell.execute_reply.started": "2024-07-05T17:03:00.863420Z"
        },
        "id": "k-uK0sg5-_F-",
        "trusted": true
      },
      "outputs": [],
      "source": [
        "# IN CASE YOU NEED TO RECREATE THE PIPELINE FROM SCRATCH, YOU CAN UNCOMMENT THIS CELL\n",
        "\n",
        "# ie_pipe = Pipeline()\n",
        "# ie_pipe.add_component(\"fetcher\", LinkContentFetcher())\n",
        "# ie_pipe.add_component(\"converter\", HTMLToDocument())\n",
        "# ie_pipe.add_component(\"prompt_builder\", PromptBuilder(template=prompt_template))\n",
        "# ie_pipe.add_component(\"generator\", HuggingFaceLocalGenerator(model=\"numind/NuExtract\",\n",
        "#                                       huggingface_pipeline_kwargs={\"model_kwargs\": {\"torch_dtype\":torch.bfloat16}})\n",
        "# )\n",
        "# ie_pipe.add_component(\"adapter\", OutputAdapter(template=\"\"\"{{ replies[0]| replace(\"'\",'\"') | json_loads}}\"\"\",\n",
        "#                                          output_type=dict,\n",
        "#                                          custom_filters={\"json_loads\": json.loads}))\n",
        "\n",
        "# ie_pipe.connect(\"fetcher\", \"converter\")\n",
        "# ie_pipe.connect(\"converter\", \"prompt_builder\")\n",
        "# ie_pipe.connect(\"prompt_builder\", \"generator\")\n",
        "# ie_pipe.connect(\"generator\", \"adapter\")"
      ]
    },
    {
      "cell_type": "markdown",
      "metadata": {
        "id": "UDZ4bgsa-_F-"
      },
      "source": [
        "\n",
        "Let's review our pipeline setup:"
      ]
    },
    {
      "cell_type": "code",
      "execution_count": null,
      "metadata": {
        "colab": {
          "base_uri": "https://localhost:8080/",
          "height": 1000
        },
        "execution": {
          "iopub.execute_input": "2024-07-05T17:03:00.875847Z",
          "iopub.status.busy": "2024-07-05T17:03:00.875327Z",
          "iopub.status.idle": "2024-07-05T17:03:02.008953Z",
          "shell.execute_reply": "2024-07-05T17:03:02.007956Z",
          "shell.execute_reply.started": "2024-07-05T17:03:00.875817Z"
        },
        "id": "beUceBIW-_F-",
        "outputId": "475c7e8b-9944-4f8a-ac14-a652f4e562ea",
        "trusted": true
      },
      "outputs": [
        {
          "data": {
            "image/png": "[encoded data removed]",
            "text/plain": [
              "<IPython.core.display.Image object>"
            ]
          },
          "metadata": {},
          "output_type": "display_data"
        }
      ],
      "source": [
        "ie_pipe.show()"
      ]
    },
    {
      "cell_type": "markdown",
      "metadata": {
        "id": "8Oo9Q8O0-_F-"
      },
      "source": [
        "### Define the sources and the extraction schema\n",
        "\n",
        "We select a list of URLs related to recent startup funding announcements.\n",
        "\n",
        "Additionally, we define a schema for the structured information we aim to extract."
      ]
    },
    {
      "cell_type": "code",
      "execution_count": null,
      "metadata": {
        "execution": {
          "iopub.execute_input": "2024-07-05T17:03:02.010606Z",
          "iopub.status.busy": "2024-07-05T17:03:02.010291Z",
          "iopub.status.idle": "2024-07-05T17:03:02.017510Z",
          "shell.execute_reply": "2024-07-05T17:03:02.016582Z",
          "shell.execute_reply.started": "2024-07-05T17:03:02.010578Z"
        },
        "id": "lkxnGFfR-_F-",
        "trusted": true
      },
      "outputs": [],
      "source": [
        "urls = [\"https://techcrunch.com/2023/04/27/pinecone-drops-100m-investment-on-750m-valuation-as-vector-database-demand-grows/\",\n",
        "        \"https://techcrunch.com/2023/04/27/replit-funding-100m-generative-ai/\",\n",
        "        \"https://www.cnbc.com/2024/06/12/mistral-ai-raises-645-million-at-a-6-billion-valuation.html\",\n",
        "        \"https://techcrunch.com/2024/01/23/qdrant-open-source-vector-database/\",\n",
        "        \"https://www.intelcapital.com/anyscale-secures-100m-series-c-at-1b-valuation-to-radically-simplify-scaling-and-productionizing-ai-applications/\",\n",
        "        \"https://techcrunch.com/2023/04/28/openai-funding-valuation-chatgpt/\",\n",
        "        \"https://techcrunch.com/2024/03/27/amazon-doubles-down-on-anthropic-completing-its-planned-4b-investment/\",\n",
        "        \"https://techcrunch.com/2024/01/22/voice-cloning-startup-elevenlabs-lands-80m-achieves-unicorn-status/\",\n",
        "        \"https://techcrunch.com/2023/08/24/hugging-face-raises-235m-from-investors-including-salesforce-and-nvidia\",\n",
        "        \"https://www.prnewswire.com/news-releases/ai21-completes-208-million-oversubscribed-series-c-round-301994393.html\",\n",
        "        \"https://techcrunch.com/2023/03/15/adept-a-startup-training-ai-to-use-existing-software-and-apis-raises-350m/\",\n",
        "        \"https://www.cnbc.com/2023/03/23/characterai-valued-at-1-billion-after-150-million-round-from-a16z.html\"]\n",
        "\n",
        "\n",
        "schema={\n",
        "    \"Funding\": {\n",
        "        \"New funding\": \"\",\n",
        "        \"Investors\": [],\n",
        "    },\n",
        "     \"Company\": {\n",
        "        \"Name\": \"\",\n",
        "        \"Activity\": \"\",\n",
        "        \"Country\": \"\",\n",
        "        \"Total valuation\": \"\",\n",
        "        \"Total funding\": \"\"\n",
        "    }\n",
        "}"
      ]
    },
    {
      "cell_type": "markdown",
      "metadata": {
        "id": "ym3t9xx9-_F-"
      },
      "source": [
        "### Run the Pipeline!\n",
        "\n",
        "We pass the required data to each component.\n",
        "\n",
        "Note that most of them receive data from previously executed components."
      ]
    },
    {
      "cell_type": "code",
      "execution_count": null,
      "metadata": {
        "colab": {
          "base_uri": "https://localhost:8080/"
        },
        "execution": {
          "iopub.execute_input": "2024-07-05T17:03:02.019148Z",
          "iopub.status.busy": "2024-07-05T17:03:02.018790Z",
          "iopub.status.idle": "2024-07-05T17:05:23.850652Z",
          "shell.execute_reply": "2024-07-05T17:05:23.849624Z",
          "shell.execute_reply.started": "2024-07-05T17:03:02.019120Z"
        },
        "id": "UZxWu-CG-_F-",
        "outputId": "086f3fa3-20b4-4b6b-e04b-53164937ab4c",
        "trusted": true
      },
      "outputs": [
        {
          "name": "stderr",
          "output_type": "stream",
          "text": [
            " 75%|███████▌  | 9/12 [01:53<00:41, 13.80s/it]You seem to be using the pipelines sequentially on GPU. In order to maximize efficiency please use a dataset\n",
            "100%|██████████| 12/12 [02:32<00:00, 12.70s/it]\n"
          ]
        }
      ],
      "source": [
        "from tqdm import tqdm\n",
        "\n",
        "extracted_data=[]\n",
        "\n",
        "for url in tqdm(urls):\n",
        "    result = ie_pipe.run({\"fetcher\":{\"urls\":[url]},\n",
        "                          \"prompt_builder\": {\"schema\":schema}})\n",
        "\n",
        "    extracted_data.append(result[\"adapter\"][\"output\"])"
      ]
    },
    {
      "cell_type": "markdown",
      "metadata": {
        "id": "-7e2T1Jt-_F-"
      },
      "source": [
        "Let's inspect some of the extracted data"
      ]
    },
    {
      "cell_type": "code",
      "execution_count": null,
      "metadata": {
        "colab": {
          "base_uri": "https://localhost:8080/"
        },
        "execution": {
          "iopub.execute_input": "2024-07-05T17:05:23.853030Z",
          "iopub.status.busy": "2024-07-05T17:05:23.852318Z",
          "iopub.status.idle": "2024-07-05T17:05:23.860399Z",
          "shell.execute_reply": "2024-07-05T17:05:23.859493Z",
          "shell.execute_reply.started": "2024-07-05T17:05:23.852987Z"
        },
        "id": "mNwz40Hc-_F-",
        "outputId": "f3814ef7-66cc-4c2e-f6f2-9050a6d66440",
        "trusted": true
      },
      "outputs": [
        {
          "data": {
            "text/plain": [
              "[{'Company': {'Activity': 'vector database',\n",
              "   'Country': '',\n",
              "   'Name': 'Pinecone',\n",
              "   'Total funding': '$138 million',\n",
              "   'Total valuation': '$750 million'},\n",
              "  'Funding': {'Investors': ['Andreessen Horowitz',\n",
              "    'ICONIQ Growth',\n",
              "    'Menlo Ventures',\n",
              "    'Wing Venture Capital'],\n",
              "   'New funding': '$100 million'}},\n",
              " {'Company': {'Activity': 'developing a code-generating AI-powered tool',\n",
              "   'Country': 'San Francisco',\n",
              "   'Name': 'Replit',\n",
              "   'Total funding': 'over $200 million',\n",
              "   'Total valuation': '$1.16 billion'},\n",
              "  'Funding': {'Investors': ['Andreessen Horowitz',\n",
              "    'Khosla Ventures',\n",
              "    'Coatue',\n",
              "    'SV Angel',\n",
              "    'Y Combinator',\n",
              "    'Bloomberg Beta',\n",
              "    'Naval Ravikant',\n",
              "    'ARK Ventures',\n",
              "    'Hamilton Helmer'],\n",
              "   'New funding': '$97.4 million'}}]"
            ]
          },
          "execution_count": 13,
          "metadata": {},
          "output_type": "execute_result"
        }
      ],
      "source": [
        "extracted_data[:2]"
      ]
    },
    {
      "cell_type": "markdown",
      "metadata": {
        "id": "IGABuqOE-_F_"
      },
      "source": [
        "## Data exploration and visualization\n",
        "\n",
        "Let's explore the extracted data to assess its correctness and gain insights."
      ]
    },
    {
      "cell_type": "markdown",
      "metadata": {
        "id": "a4jxTrU5-_F_"
      },
      "source": [
        "### Dataframe\n",
        "\n",
        "We start by creating a Pandas Dataframe. For simplicity, we flatten the extracted data."
      ]
    },
    {
      "cell_type": "code",
      "execution_count": null,
      "metadata": {
        "execution": {
          "iopub.execute_input": "2024-07-05T17:05:23.864364Z",
          "iopub.status.busy": "2024-07-05T17:05:23.864013Z",
          "iopub.status.idle": "2024-07-05T17:05:23.876818Z",
          "shell.execute_reply": "2024-07-05T17:05:23.876033Z",
          "shell.execute_reply.started": "2024-07-05T17:05:23.864335Z"
        },
        "id": "kraG_W1x-_F_",
        "trusted": true
      },
      "outputs": [],
      "source": [
        "def flatten_dict(d, parent_key=''):\n",
        "    items = []\n",
        "    for k, v in d.items():\n",
        "        new_key = f\"{parent_key} - {k}\" if parent_key else k\n",
        "        if isinstance(v, dict):\n",
        "            items.extend(flatten_dict(v, new_key).items())\n",
        "        elif isinstance(v, list):\n",
        "            items.append((new_key, ', '.join(v)))\n",
        "        else:\n",
        "            items.append((new_key, v))\n",
        "    return dict(items)"
      ]
    },
    {
      "cell_type": "code",
      "execution_count": null,
      "metadata": {
        "execution": {
          "iopub.execute_input": "2024-07-05T17:05:23.878524Z",
          "iopub.status.busy": "2024-07-05T17:05:23.878076Z",
          "iopub.status.idle": "2024-07-05T17:05:23.931907Z",
          "shell.execute_reply": "2024-07-05T17:05:23.930668Z",
          "shell.execute_reply.started": "2024-07-05T17:05:23.878473Z"
        },
        "id": "7JAQ8pO0-_F_",
        "trusted": true
      },
      "outputs": [],
      "source": [
        "import pandas as pd\n",
        "\n",
        "df = pd.DataFrame([flatten_dict(el) for el in extracted_data])\n",
        "df = df.sort_values(by='Company - Name')\n",
        "\n",
        "df"
      ]
    },
    {
      "cell_type": "markdown",
      "metadata": {},
      "source": [
        "![dataframe](https://huggingface.co/datasets/huggingface/cookbook-images/resolve/main/haystack_dataframe.png)"
      ]
    },
    {
      "cell_type": "markdown",
      "metadata": {
        "id": "DLDZvuZ0-_F_"
      },
      "source": [
        "Apart from some errors in \"Company - Country\", the extracted data looks good."
      ]
    },
    {
      "cell_type": "markdown",
      "metadata": {
        "id": "UXcXxat8-_F_"
      },
      "source": [
        "### Build a simple graph\n",
        "\n",
        "To understand the relationships between companies and investors, we construct a graph and visualize it."
      ]
    },
    {
      "cell_type": "markdown",
      "metadata": {
        "id": "kmu6akWJ-_F_"
      },
      "source": [
        "First, we build a graph using NetworkX.\n",
        "\n",
        "[NetworkX](https://networkx.org/) is a Python package that allows to create and manipulate networks/graphs in a simple way.\n",
        "\n",
        "Our simple graph will have companies and investors as nodes. We will connect investors to companies if they are mentioned in the same document."
      ]
    },
    {
      "cell_type": "code",
      "execution_count": null,
      "metadata": {
        "execution": {
          "iopub.execute_input": "2024-07-05T17:11:13.983879Z",
          "iopub.status.busy": "2024-07-05T17:11:13.982949Z",
          "iopub.status.idle": "2024-07-05T17:11:13.990146Z",
          "shell.execute_reply": "2024-07-05T17:11:13.989216Z",
          "shell.execute_reply.started": "2024-07-05T17:11:13.983845Z"
        },
        "id": "GEW3NPSg-_F_",
        "trusted": true
      },
      "outputs": [],
      "source": [
        "import networkx as nx\n",
        "\n",
        "# Create a new graph\n",
        "G = nx.Graph()\n",
        "\n",
        "# Add nodes and edges\n",
        "for el in extracted_data:\n",
        "    company_name = el[\"Company\"][\"Name\"]\n",
        "    G.add_node(company_name, label=company_name, title=\"Company\")\n",
        "\n",
        "    investors = el[\"Funding\"][\"Investors\"]\n",
        "    for investor in investors:\n",
        "        if not G.has_node(investor):\n",
        "            G.add_node(investor, label=investor, title=\"Investor\", color=\"red\")\n",
        "        G.add_edge(company_name, investor)"
      ]
    },
    {
      "cell_type": "markdown",
      "metadata": {
        "id": "67mdKYMs-_F_"
      },
      "source": [
        "Next, we use Pyvis to visualize the graph.\n",
        "\n",
        "[Pyvis](https://pyvis.readthedocs.io/en/latest/) is a Python package for interactive visualization of networks/graphs. It integrates nicely with NetworkX."
      ]
    },
    {
      "cell_type": "code",
      "execution_count": null,
      "metadata": {
        "colab": {
          "base_uri": "https://localhost:8080/",
          "height": 1000
        },
        "execution": {
          "iopub.execute_input": "2024-07-05T17:20:13.616822Z",
          "iopub.status.busy": "2024-07-05T17:20:13.616413Z",
          "iopub.status.idle": "2024-07-05T17:20:13.888649Z",
          "shell.execute_reply": "2024-07-05T17:20:13.887648Z",
          "shell.execute_reply.started": "2024-07-05T17:20:13.616789Z"
        },
        "id": "vEtXBviT-_GA",
        "outputId": "77f13466-b806-4653-d514-6e2c58f3de0f",
        "trusted": true
      },
      "outputs": [],
      "source": [
        "from pyvis.network import Network\n",
        "from IPython.display import display, HTML\n",
        "\n",
        "\n",
        "net = Network(notebook=True, cdn_resources='in_line')\n",
        "net.from_nx(G)\n",
        "\n",
        "net.show('simple_graph.html')\n",
        "display(HTML('simple_graph.html'))"
      ]
    },
    {
      "cell_type": "markdown",
      "metadata": {},
      "source": [
        "![graph visualization](https://huggingface.co/datasets/huggingface/cookbook-images/resolve/main/haystack_graph.png)"
      ]
    },
    {
      "cell_type": "markdown",
      "metadata": {
        "id": "76celtVxE4Cw"
      },
      "source": [
        "Looks like Andreessen Horowitz is quite present in the selected funding announcements 😊"
      ]
    },
    {
      "cell_type": "markdown",
      "metadata": {
        "id": "oFH6YjsV-_GA"
      },
      "source": [
        "## Conclusion and ideas\n",
        "\n",
        "In this notebook, we demonstrated how to set up an information extraction system using a small language model (NuExtract) and Haystack, a customizable orchestration framework for LLM applications.\n",
        "\n",
        "How can we use the extracted data?\n",
        "\n",
        "Some ideas:\n",
        "-  The extracted data can be added to the original documents stored in a [Document Store](https://docs.haystack.deepset.ai/docs/document-store?utm_campaign=developer-relations&utm_source=hf-cookbook). This allows for advanced search capabilities with [metadata filtering](https://docs.haystack.deepset.ai/docs/metadata-filtering?utm_campaign=developer-relations&utm_source=hf-cookbook).\n",
        "- Expanding on the previous idea, you can do RAG (Retrieval Agumented Extraction) with metadata extraction from the query, as explained in [this blog post](https://haystack.deepset.ai/blog/extracting-metadata-filter?utm_campaign=developer-relations&utm_source=hf-cookbook).\n",
        "- Store the documents and extracted data in a Knowledge Graph and perform Graph RAG ([Neo4j-Haystack integration](https://prosto.github.io/neo4j-haystack))."
      ]
    }
  ],
  "metadata": {
    "accelerator": "GPU",
    "colab": {
      "gpuType": "T4",
      "provenance": []
    },
    "kaggle": {
      "accelerator": "nvidiaTeslaT4",
      "dataSources": [],
      "dockerImageVersionId": 30732,
      "isGpuEnabled": true,
      "isInternetEnabled": true,
      "language": "python",
      "sourceType": "notebook"
    },
    "kernelspec": {
      "display_name": "Python 3",
      "language": "python",
      "name": "python3"
    },
    "language_info": {
      "codemirror_mode": {
        "name": "ipython",
        "version": 3
      },
      "file_extension": ".py",
      "mimetype": "text/x-python",
      "name": "python",
      "nbconvert_exporter": "python",
      "pygments_lexer": "ipython3",
      "version": "3.10.12"
    }
  },
  "nbformat": 4,
  "nbformat_minor": 0
}

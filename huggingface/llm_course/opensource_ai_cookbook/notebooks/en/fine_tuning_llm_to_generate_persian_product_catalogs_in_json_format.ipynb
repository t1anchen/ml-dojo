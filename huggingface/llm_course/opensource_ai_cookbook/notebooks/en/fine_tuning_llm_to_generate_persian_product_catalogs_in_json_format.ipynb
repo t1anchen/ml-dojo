{
 "cells": [
  {
   "cell_type": "markdown",
   "id": "a59bf2a9e5015030",
   "metadata": {
    "collapsed": false
   },
   "source": [
    "# Fine-tuning LLM to Generate Persian Product Catalogs in JSON Format\n",
    "\n",
    "_Authored by: [Mohammadreza Esmaeiliyan](https://github.com/MrzEsma)_"
   ]
  },
  {
   "cell_type": "markdown",
   "id": "755fc90c27f1cb99",
   "metadata": {
    "collapsed": false
   },
   "source": [
    "In this notebook, we have attempted to fine-tune a large language model with no added complexity. The model has been optimized for use on a customer-level GPU to generate Persian product catalogs and produce structured output in JSON format. It is particularly effective for creating structured outputs from the unstructured titles and descriptions of products on Iranian platforms with user-generated content, such as [Basalam](https://basalam.com), [Divar](https://divar.ir/), [Digikala](https://www.digikala.com/), and others. \n",
    "\n",
    "You can see a fine-tuned LLM with this code on [our HF account](https://huggingface.co/BaSalam/Llama2-7b-entity-attr-v1). Additionally, one of the fastest open-source inference engines, [Vllm](https://github.com/vllm-project/vllm), is employed for inference. \n",
    "\n",
    "Let's get started!"
   ]
  },
  {
   "cell_type": "code",
   "execution_count": null,
   "id": "3a35eafbe37e4ad2",
   "metadata": {
    "collapsed": false
   },
   "outputs": [],
   "source": [
    "import torch\n",
    "from datasets import load_dataset\n",
    "from transformers import (\n",
    "    AutoModelForCausalLM,\n",
    "    AutoTokenizer,\n",
    "    BitsAndBytesConfig,\n",
    "    TrainingArguments,\n",
    ")\n",
    "from peft import LoraConfig, PeftModel\n",
    "from trl import SFTTrainer, DataCollatorForCompletionOnlyLM"
   ]
  },
  {
   "cell_type": "markdown",
   "id": "30caf9936156e430",
   "metadata": {
    "collapsed": false
   },
   "source": [
    "The `peft` library, or parameter efficient fine tuning, has been created to fine-tune LLMs more efficiently. If we were to open and fine-tune the upper layers of the network traditionally like all neural networks, it would require a lot of processing and also a significant amount of VRAM. With the methods developed in recent papers, this library has been implemented for efficient fine-tuning of LLMs. Read more about peft here: [Hugging Face PEFT](https://huggingface.co/blog/peft)."
   ]
  },
  {
   "cell_type": "markdown",
   "id": "261a8f52fe09202e",
   "metadata": {
    "collapsed": false
   },
   "source": [
    "## Set hyperparameters"
   ]
  },
  {
   "cell_type": "code",
   "execution_count": null,
   "id": "96fccf9f7364bac6",
   "metadata": {
    "collapsed": false
   },
   "outputs": [],
   "source": [
    "# General parameters\n",
    "model_name = \"NousResearch/Llama-2-7b-chat-hf\"  # The model that you want to train from the Hugging Face hub\n",
    "dataset_name = \"BaSalam/entity-attribute-dataset-GPT-3.5-generated-v1\"  # The instruction dataset to use\n",
    "new_model = \"llama-persian-catalog-generator\"  # The name for fine-tuned LoRA Adaptor"
   ]
  },
  {
   "cell_type": "code",
   "execution_count": null,
   "id": "7f69a97083bf19d9",
   "metadata": {
    "collapsed": false
   },
   "outputs": [],
   "source": [
    "# LoRA parameters\n",
    "lora_r = 64\n",
    "lora_alpha = lora_r * 2\n",
    "lora_dropout = 0.1\n",
    "target_modules = [\"q_proj\", \"v_proj\", 'k_proj']\n"
   ]
  },
  {
   "cell_type": "markdown",
   "id": "382296d37668763c",
   "metadata": {
    "collapsed": false
   },
   "source": [
    "LoRA (Low-Rank Adaptation) stores changes in weights by constructing and adding a low-rank matrix to each model layer. This method opens only these layers for fine-tuning, without changing the original model weights or requiring lengthy training. The resulting weights are lightweight and can be produced multiple times, allowing for the fine-tuning of multiple tasks with an LLM loaded into RAM. \n",
    "\n",
    "\n",
    "Read about LoRA [here at Lightning AI](https://lightning.ai/pages/community/tutorial/lora-llm/). For other efficient training methods, see [Hugging Face Docs on Performance Training](https://huggingface.co/docs/transformers/perf_train_gpu_one) and [SFT Trainer Enhancement](https://huggingface.co/docs/trl/main/en/sft_trainer#enhance-models-performances-using-neftune).\n"
   ]
  },
  {
   "cell_type": "code",
   "execution_count": null,
   "id": "501beb388b6749ea",
   "metadata": {
    "collapsed": false
   },
   "outputs": [],
   "source": [
    "# QLoRA parameters\n",
    "load_in_4bit = True\n",
    "bnb_4bit_compute_dtype = \"float16\"\n",
    "bnb_4bit_quant_type = \"nf4\"\n",
    "bnb_4bit_use_double_quant = False\n"
   ]
  },
  {
   "cell_type": "markdown",
   "id": "39149616eb21ec5b",
   "metadata": {
    "collapsed": false
   },
   "source": [
    "QLoRA (Quantized Low-Rank Adaptation) is an efficient fine-tuning approach that enables large language models to run on smaller GPUs by using 4-bit quantization. This method preserves the full performance of 16-bit fine-tuning while reducing memory usage, making it possible to fine-tune models with up to 65 billion parameters on a single 48GB GPU. QLoRA combines 4-bit NormalFloat data types, double quantization, and paged optimizers to manage memory efficiently. It allows fine-tuning of models with low-rank adapters, significantly enhancing accessibility for AI model development.\n",
    "\n",
    "Read about QLoRA [here at Hugging Face](https://huggingface.co/blog/4bit-transformers-bitsandbytes)."
   ]
  },
  {
   "cell_type": "code",
   "execution_count": null,
   "id": "83f51e63e67aa87b",
   "metadata": {
    "collapsed": false
   },
   "outputs": [],
   "source": [
    "# TrainingArguments parameters\n",
    "num_train_epochs = 1\n",
    "fp16 = False\n",
    "bf16 = False\n",
    "per_device_train_batch_size = 4\n",
    "gradient_accumulation_steps = 1\n",
    "gradient_checkpointing = True\n",
    "learning_rate = 0.00015\n",
    "weight_decay = 0.01\n",
    "optim = \"paged_adamw_32bit\"\n",
    "lr_scheduler_type = \"cosine\"\n",
    "max_steps = -1\n",
    "warmup_ratio = 0.03\n",
    "group_by_length = True\n",
    "save_steps = 0\n",
    "logging_steps = 25\n",
    "\n",
    "# SFT parameters\n",
    "max_seq_length = None\n",
    "packing = False\n",
    "device_map = {\"\": 0}\n",
    "\n",
    "# Dataset parameters\n",
    "use_special_template = True\n",
    "response_template = ' ### Answer:'\n",
    "instruction_prompt_template = '\"### Human:\"'\n",
    "use_llama_like_model = True\n"
   ]
  },
  {
   "cell_type": "markdown",
   "id": "234ef91c9c1c0789",
   "metadata": {
    "collapsed": false
   },
   "source": [
    "## Model Training"
   ]
  },
  {
   "cell_type": "code",
   "execution_count": null,
   "id": "8cc58fe0c4b229e0",
   "metadata": {
    "collapsed": false
   },
   "outputs": [],
   "source": [
    "# Load dataset (you can process it here)\n",
    "dataset = load_dataset(dataset_name, split=\"train\")\n",
    "percent_of_train_dataset = 0.95\n",
    "other_columns = [i for i in dataset.column_names if i not in ['instruction', 'output']]\n",
    "dataset = dataset.remove_columns(other_columns)\n",
    "split_dataset = dataset.train_test_split(train_size=int(dataset.num_rows * percent_of_train_dataset), seed=19, shuffle=False)\n",
    "train_dataset = split_dataset[\"train\"]\n",
    "eval_dataset = split_dataset[\"test\"]\n",
    "print(f\"Size of the train set: {len(train_dataset)}. Size of the validation set: {len(eval_dataset)}\")"
   ]
  },
  {
   "cell_type": "code",
   "execution_count": null,
   "id": "8a5216910d0a339a",
   "metadata": {
    "collapsed": false
   },
   "outputs": [],
   "source": [
    "# Load LoRA configuration\n",
    "peft_config = LoraConfig(\n",
    "    r=lora_r,\n",
    "    lora_alpha=lora_alpha,\n",
    "    lora_dropout=lora_dropout,\n",
    "    bias=\"none\",\n",
    "    task_type=\"CAUSAL_LM\",\n",
    "    target_modules=target_modules\n",
    ")"
   ]
  },
  {
   "cell_type": "markdown",
   "id": "230bfceb895c6738",
   "metadata": {
    "collapsed": false
   },
   "source": [
    "The LoraConfig object is used to configure the LoRA (Low-Rank Adaptation) settings for the model when using the Peft library. This can help to reduce the number of parameters that need to be fine-tuned, which can lead to faster training and lower memory usage. Here's a breakdown of the parameters:\n",
    "- `r`: The rank of the low-rank matrices used in LoRA. This parameter controls the dimensionality of the low-rank adaptation and directly impacts the model's capacity to adapt and the computational cost.\n",
    "- `lora_alpha`: This parameter controls the scaling factor for the low-rank adaptation matrices. A higher alpha value can increase the model's capacity to learn new tasks.\n",
    "- `lora_dropout`: The dropout rate for LoRA. This can help to prevent overfitting during fine-tuning. In this case, it's set to 0.1.\n",
    "- `bias`: Specifies whether to add a bias term to the low-rank matrices. In this case, it's set to \"none\", which means that no bias term will be added.\n",
    "- `task_type`: Defines the type of task for which the model is being fine-tuned. Here, \"CAUSAL_LM\" indicates that the task is a causal language modeling task, which predicts the next word in a sequence.\n",
    "- `target_modules`: Specifies the modules in the model to which LoRA will be applied. In this case, it's set to `[\"q_proj\", \"v_proj\", 'k_proj']`, which are the query, value, and key projection layers in the model's attention mechanism."
   ]
  },
  {
   "cell_type": "code",
   "execution_count": null,
   "id": "32d8aa11a6d47e0d",
   "metadata": {
    "collapsed": false
   },
   "outputs": [],
   "source": [
    "# Load QLoRA configuration\n",
    "compute_dtype = getattr(torch, bnb_4bit_compute_dtype)\n",
    "\n",
    "bnb_config = BitsAndBytesConfig(\n",
    "    load_in_4bit=load_in_4bit,\n",
    "    bnb_4bit_quant_type=bnb_4bit_quant_type,\n",
    "    bnb_4bit_compute_dtype=compute_dtype,\n",
    "    bnb_4bit_use_double_quant=bnb_4bit_use_double_quant,\n",
    ")"
   ]
  },
  {
   "cell_type": "markdown",
   "id": "535275d96f478839",
   "metadata": {
    "collapsed": false
   },
   "source": [
    "This block configures the settings for using BitsAndBytes (bnb), a library that provides efficient memory management and compression techniques for PyTorch models. Specifically, it defines how the model weights will be loaded and quantized in 4-bit precision, which is useful for reducing memory usage and potentially speeding up inference.\n",
    "\n",
    "- `load_in_4bit`: A boolean that determines whether to load the model in 4-bit precision.\n",
    "- `bnb_4bit_quant_type`: Specifies the type of 4-bit quantization to use. Here, it's set to 4-bit NormalFloat (NF4) quantization type, which is a new data type introduced in QLoRA. This type is information-theoretically optimal for normally distributed weights, providing an efficient way to quantize the model for fine-tuning.\n",
    "- `bnb_4bit_compute_dtype`: Sets the data type used for computations involving the quantized model. In QLoRA, it's set to \"float16\", which is commonly used for mixed-precision training to balance performance and precision.\n",
    "- `bnb_4bit_use_double_quant`: This boolean parameter indicates whether to use double quantization. Setting it to False means that only single quantization will be used, which is typically faster but might be slightly less accurate.\n",
    "\n",
    "Why we have two data type (quant_type and compute_type)? \n",
    "QLoRA employs two distinct data types: one for storing base model weights (in here 4-bit NormalFloat) and another for computational operations (16-bit). During the forward and backward passes, QLoRA dequantizes the weights from the storage format to the computational format. However, it only calculates gradients for the LoRA parameters, which utilize 16-bit bfloat. This approach ensures that weights are decompressed only when necessary, maintaining low memory usage throughout both training and inference phases.\n"
   ]
  },
  {
   "cell_type": "code",
   "execution_count": null,
   "id": "bacbbc9ddd19504d",
   "metadata": {
    "collapsed": false
   },
   "outputs": [],
   "source": [
    "# Load base model\n",
    "model = AutoModelForCausalLM.from_pretrained(\n",
    "    model_name,\n",
    "    quantization_config=bnb_config,\n",
    "    device_map=device_map\n",
    ")\n",
    "model.config.use_cache = False"
   ]
  },
  {
   "cell_type": "code",
   "execution_count": null,
   "id": "a82c50bc69c3632b",
   "metadata": {
    "collapsed": false
   },
   "outputs": [],
   "source": [
    "# Set training parameters\n",
    "training_arguments = TrainingArguments(\n",
    "    output_dir=new_model,\n",
    "    num_train_epochs=num_train_epochs,\n",
    "    per_device_train_batch_size=per_device_train_batch_size,\n",
    "    gradient_accumulation_steps=gradient_accumulation_steps,\n",
    "    optim=optim,\n",
    "    save_steps=save_steps,\n",
    "    logging_steps=logging_steps,\n",
    "    learning_rate=learning_rate,\n",
    "    weight_decay=weight_decay,\n",
    "    fp16=fp16,\n",
    "    bf16=bf16,\n",
    "    max_steps=max_steps,\n",
    "    warmup_ratio=warmup_ratio,\n",
    "    gradient_checkpointing=gradient_checkpointing,\n",
    "    group_by_length=group_by_length,\n",
    "    lr_scheduler_type=lr_scheduler_type\n",
    ")"
   ]
  },
  {
   "cell_type": "code",
   "execution_count": null,
   "id": "c86b66f59bee28dc",
   "metadata": {
    "collapsed": false
   },
   "outputs": [],
   "source": [
    "# Load tokenizer\n",
    "tokenizer = AutoTokenizer.from_pretrained(model_name, trust_remote_code=True)\n",
    "tokenizer.pad_token = tokenizer.eos_token\n",
    "tokenizer.padding_side = \"right\"  # Fix weird overflow issue with fp16 training\n",
    "if not tokenizer.chat_template:\n",
    "    tokenizer.chat_template = \"{% for message in messages %}{{'<|im_start|>' + message['role'] + '\\n' + message['content'] + '<|im_end|>' + '\\n'}}{% endfor %}\""
   ]
  },
  {
   "cell_type": "markdown",
   "id": "ea4399c36bcdcbbd",
   "metadata": {
    "collapsed": false
   },
   "source": [
    "Regarding the chat template, we will briefly explain that to understand the structure of the conversation between the user and the model during model training, a series of reserved phrases are created to separate the user's message and the model's response. This ensures that the model precisely understands where each message comes from and maintains a sense of the conversational structure. Typically, adhering to a chat template helps increase accuracy in the intended task. However, when there is a distribution shift between the fine-tuning dataset and the model, using a specific chat template can be even more helpful. For further reading, visit [Hugging Face Blog on Chat Templates](https://huggingface.co/blog/chat-templates).\n"
   ]
  },
  {
   "cell_type": "code",
   "execution_count": null,
   "id": "7d3f935e03db79b8",
   "metadata": {
    "collapsed": false
   },
   "outputs": [],
   "source": [
    "def special_formatting_prompts(example):\n",
    "    output_texts = []\n",
    "    for i in range(len(example['instruction'])):\n",
    "        text = f\"{instruction_prompt_template}{example['instruction'][i]}\\n{response_template} {example['output'][i]}\"\n",
    "        output_texts.append(text)\n",
    "    return output_texts\n",
    "\n",
    "\n",
    "def normal_formatting_prompts(example):\n",
    "    output_texts = []\n",
    "    for i in range(len(example['instruction'])):\n",
    "        chat_temp = [{\"role\": \"system\", \"content\": example['instruction'][i]},\n",
    "                     {\"role\": \"assistant\", \"content\": example['output'][i]}]\n",
    "        text = tokenizer.apply_chat_template(chat_temp, tokenize=False)\n",
    "        output_texts.append(text)\n",
    "    return output_texts\n"
   ]
  },
  {
   "cell_type": "code",
   "execution_count": null,
   "id": "95dc3db0d6c5ddaf",
   "metadata": {
    "collapsed": false
   },
   "outputs": [],
   "source": [
    "if use_special_template:\n",
    "    formatting_func = special_formatting_prompts\n",
    "    if use_llama_like_model:\n",
    "        response_template_ids = tokenizer.encode(response_template, add_special_tokens=False)[2:]\n",
    "        collator = DataCollatorForCompletionOnlyLM(response_template=response_template_ids, tokenizer=tokenizer)\n",
    "    else:\n",
    "        collator = DataCollatorForCompletionOnlyLM(response_template=response_template, tokenizer=tokenizer)\n",
    "else:\n",
    "    formatting_func = normal_formatting_prompts"
   ]
  },
  {
   "cell_type": "code",
   "execution_count": null,
   "id": "48e09edab86c4212",
   "metadata": {
    "collapsed": false
   },
   "outputs": [],
   "source": [
    "trainer = SFTTrainer(\n",
    "    model=model,\n",
    "    train_dataset=train_dataset,\n",
    "    eval_dataset=eval_dataset,\n",
    "    peft_config=peft_config,\n",
    "    formatting_func=formatting_func,\n",
    "    data_collator=collator,\n",
    "    max_seq_length=max_seq_length,\n",
    "    tokenizer=tokenizer,\n",
    "    args=training_arguments,\n",
    "    packing=packing\n",
    ")"
   ]
  },
  {
   "cell_type": "markdown",
   "id": "38fb6fddbca5567e",
   "metadata": {
    "collapsed": false
   },
   "source": [
    "The `SFTTrainer` is then instantiated to handle supervised fine-tuning (SFT) of the model. This trainer is specifically designed for SFT and includes additional parameters such as `formatting_func` and `packing` which are not typically found in standard trainers.\n",
    "`formatting_func`: A custom function to format training examples by combining instruction and response templates.\n",
    "`packing`: Disables packing multiple samples into one sequence, which is not a standard parameter in the typical Trainer class.\n"
   ]
  },
  {
   "cell_type": "code",
   "execution_count": null,
   "id": "a17a3b28010ce90e",
   "metadata": {
    "collapsed": false
   },
   "outputs": [],
   "source": [
    "# Train model\n",
    "trainer.train()\n",
    "\n",
    "# Save fine tuned Lora Adaptor \n",
    "trainer.model.save_pretrained(new_model)"
   ]
  },
  {
   "cell_type": "markdown",
   "id": "39abd4f63776cc49",
   "metadata": {
    "collapsed": false
   },
   "source": [
    "## Inference"
   ]
  },
  {
   "cell_type": "code",
   "execution_count": null,
   "id": "70cca01bc96d9ead",
   "metadata": {
    "collapsed": false
   },
   "outputs": [],
   "source": [
    "import torch\n",
    "import gc\n",
    "\n",
    "\n",
    "def clear_hardwares():\n",
    "    torch.clear_autocast_cache()\n",
    "    torch.cuda.ipc_collect()\n",
    "    torch.cuda.empty_cache()\n",
    "    gc.collect()\n",
    "\n",
    "\n",
    "clear_hardwares()\n",
    "clear_hardwares()"
   ]
  },
  {
   "cell_type": "code",
   "execution_count": null,
   "id": "dd8313238b26e95e",
   "metadata": {
    "collapsed": false
   },
   "outputs": [],
   "source": [
    "def generate(model, prompt: str, kwargs):\n",
    "    tokenized_prompt = tokenizer(prompt, return_tensors='pt').to(model.device)\n",
    "\n",
    "    prompt_length = len(tokenized_prompt.get('input_ids')[0])\n",
    "\n",
    "    with torch.cuda.amp.autocast():\n",
    "        output_tokens = model.generate(**tokenized_prompt, **kwargs) if kwargs else model.generate(**tokenized_prompt)\n",
    "        output = tokenizer.decode(output_tokens[0][prompt_length:], skip_special_tokens=True)\n",
    "\n",
    "    return output"
   ]
  },
  {
   "cell_type": "code",
   "execution_count": null,
   "id": "d3fe5a27fa40ba9",
   "metadata": {
    "collapsed": false
   },
   "outputs": [],
   "source": [
    "base_model = AutoModelForCausalLM.from_pretrained(new_model, return_dict=True, device_map='auto', token='')\n",
    "tokenizer = AutoTokenizer.from_pretrained(new_model, max_length=max_seq_length)\n",
    "model = PeftModel.from_pretrained(base_model, new_model)\n",
    "del base_model"
   ]
  },
  {
   "cell_type": "code",
   "execution_count": null,
   "id": "70682a07fcaaca3f",
   "metadata": {
    "collapsed": false
   },
   "outputs": [],
   "source": [
    "sample = eval_dataset[0]\n",
    "if use_special_template:\n",
    "    prompt = f\"{instruction_prompt_template}{sample['instruction']}\\n{response_template}\"\n",
    "else:\n",
    "    chat_temp = [{\"role\": \"system\", \"content\": sample['instruction']}]\n",
    "    prompt = tokenizer.apply_chat_template(chat_temp, tokenize=False, add_generation_prompt=True)"
   ]
  },
  {
   "cell_type": "code",
   "execution_count": null,
   "id": "febeb00f0a6f0b5e",
   "metadata": {
    "collapsed": false
   },
   "outputs": [],
   "source": [
    "gen_kwargs = {\"max_new_tokens\": 1024}\n",
    "generated_texts = generate(model=model, prompt=prompt, kwargs=gen_kwargs)\n",
    "print(generated_texts)"
   ]
  },
  {
   "cell_type": "markdown",
   "id": "c18abf489437a546",
   "metadata": {
    "collapsed": false
   },
   "source": [
    "## Merge to base model"
   ]
  },
  {
   "cell_type": "code",
   "execution_count": null,
   "id": "4f5f450001bf428f",
   "metadata": {
    "collapsed": false
   },
   "outputs": [],
   "source": [
    "clear_hardwares()\n",
    "merged_model = model.merge_and_unload()\n",
    "clear_hardwares()\n",
    "del model\n",
    "adapter_model_name = 'your_hf_account/your_desired_name'\n",
    "merged_model.push_to_hub(adapter_model_name)"
   ]
  },
  {
   "cell_type": "markdown",
   "id": "16775c2ed49bfe11",
   "metadata": {
    "collapsed": false
   },
   "source": [
    "Here, we merged the adapter with the base model and push the merged model on the hub. You can just push the adapter in the hub and avoid pushing the heavy base model file in this way:\n",
    "```\n",
    "model.push_to_hub(adapter_model_name)\n",
    "```\n",
    "And then you load the model in this way:\n",
    "```\n",
    "config = PeftConfig.from_pretrained(adapter_model_name)\n",
    "model = AutoModelForCausalLM.from_pretrained(config.base_model_name_or_path, return_dict=True, load_in_8bit=True, device_map='auto')\n",
    "tokenizer = AutoTokenizer.from_pretrained(config.base_model_name_or_path)\n",
    "\n",
    "# Load the Lora model\n",
    "model = PeftModel.from_pretrained(model, adapter_model_name)\n",
    "```"
   ]
  },
  {
   "cell_type": "markdown",
   "id": "4851ef41e4cc4f95",
   "metadata": {
    "collapsed": false
   },
   "source": [
    "## Fast Inference with [Vllm](https://github.com/vllm-project/vllm)\n"
   ]
  },
  {
   "cell_type": "markdown",
   "id": "fe82f0a57fe86f60",
   "metadata": {
    "collapsed": false
   },
   "source": [
    "The `vllm` library is one of the fastest inference engines for LLMs. For a comparative overview of available options, you can use this blog: [7 Frameworks for Serving LLMs](https://medium.com/@gsuresh957/7-frameworks-for-serving-llms-5044b533ee88). \n",
    "In this example, we are inferring version 1 of our fine-tuned model on this task."
   ]
  },
  {
   "cell_type": "code",
   "execution_count": null,
   "id": "88bee8960b176e87",
   "metadata": {
    "collapsed": false
   },
   "outputs": [],
   "source": [
    "from vllm import LLM, SamplingParams\n",
    "\n",
    "prompt = \"\"\"### Question: here is a product title from a Iranian marketplace.  \\n         give me the Product Entity and Attributes of this product in Persian language.\\n         give the output in this json format: {'attributes': {'attribute_name' : <attribute value>, ...}, 'product_entity': '<product entity>'}.\\n         Don't make assumptions about what values to plug into json. Just give Json not a single word more.\\n         \\nproduct title:\"\"\"\n",
    "user_prompt_template = '### Question: '\n",
    "response_template = ' ### Answer:'\n",
    "\n",
    "llm = LLM(model='BaSalam/Llama2-7b-entity-attr-v1', gpu_memory_utilization=0.9, trust_remote_code=True)\n",
    "\n",
    "product = 'مانتو اسپرت پانیذ قد جلوی کار حدودا 85 سانتی متر قد پشت کار حدودا 88 سانتی متر'\n",
    "sampling_params = SamplingParams(temperature=0.0, max_tokens=75)\n",
    "prompt = f'{user_prompt_template} {prompt}{product}\\n {response_template}'\n",
    "outputs = llm.generate(prompt, sampling_params)\n",
    "\n",
    "print(outputs[0].outputs[0].text)"
   ]
  },
  {
   "cell_type": "markdown",
   "id": "dc007ced7ca34bbb",
   "metadata": {},
   "source": [
    "### Example Output\n",
    "\n",
    "```\n",
    "{\n",
    "    \"attributes\": {\n",
    "        \"قد جلوی کار\": \"85 سانتی متر\",\n",
    "        \"قد پشت کار\": \"88 سانتی متر\"\n",
    "    },\n",
    "    \"product_entity\": \"مانتو اسپرت\"\n",
    "}\n",
    "```\n"
   ]
  },
  {
   "cell_type": "markdown",
   "id": "2bfe00769699bbd2",
   "metadata": {
    "collapsed": false
   },
   "source": [
    "In this blog, you can read about the best practices for fine-tuning LLMs [Sebastian Raschka's Magazine](https://magazine.sebastianraschka.com/p/practical-tips-for-finetuning-llms?r=1h0eu9&utm_campaign=post&utm_medium=web). \n"
   ]
  }
 ],
 "metadata": {
  "kernelspec": {
   "display_name": "Python 3 (ipykernel)",
   "language": "python",
   "name": "python3"
  },
  "language_info": {
   "codemirror_mode": {
    "name": "ipython",
    "version": 3
   },
   "file_extension": ".py",
   "mimetype": "text/x-python",
   "name": "python",
   "nbconvert_exporter": "python",
   "pygments_lexer": "ipython3",
   "version": "3.9.19"
  }
 },
 "nbformat": 4,
 "nbformat_minor": 5
}

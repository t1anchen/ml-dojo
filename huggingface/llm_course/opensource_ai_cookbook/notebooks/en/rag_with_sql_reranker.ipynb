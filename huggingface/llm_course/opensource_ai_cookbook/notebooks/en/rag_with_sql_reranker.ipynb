{
 "cells": [
  {
   "cell_type": "markdown",
   "id": "1e8ed773-0da3-49f2-8481-2ac87a12926f",
   "metadata": {
    "id": "1e8ed773-0da3-49f2-8481-2ac87a12926f"
   },
   "source": [
    "# RAG backed by SQL and Jina Reranker v2\n",
    "\n",
    "_Authored by: [Scott Martens](https://github.com/scott-martens) @ [Jina AI](https://jina.ai)_\n",
    "\n",
    "This notebook will show you how to make a simple Retrieval Augmented Generation (RAG) system that draws on an SQL database instead of drawing information from a document store.\n",
    "\n",
    "### How it Works\n",
    "\n",
    "* Given an SQL database, we extract SQL table definitions (the `CREATE` line in an SQL dump) and store them. In this tutorial, we've done this part for you and the definitions are stored in memory as a list. Scaling up from this example might require more sophisticated storage.\n",
    "* The user enters a query in natural language.\n",
    "* [Jina Reranker v2](https://jina.ai/reranker/) \\([`jinaai/jina-reranker-v2-base-multilingual`](https://huggingface.co/jinaai/jina-reranker-v2-base-multilingual)), an SQL-aware reranking model from [Jina AI](https://jina.ai), sorts the table definitions in order of their relevance to the user's query.\n",
    "* We present [Mistral 7B Instruct v0.1 \\(`mistralai/Mistral-7B-Instruct-v0.1`)](https://huggingface.co/mistralai/Mistral-7B-Instruct-v0.1) with a prompt containing the user's query and the top three table definitions, with a request to write an SQL query to fit the task.\n",
    "* Mistral Instruct generates an SQL query and we run it against the database, retrieving a result.\n",
    "* The SQL query result is converted to JSON and presented to Mistral Instruct in a new prompt, along with the user's original query, the SQL query, and a request to compose an answer for the user in natural language.\n",
    "* Mistral Instruct's natural language text response is returned to the user.\n",
    "\n",
    "### The Database\n",
    "\n",
    "For this tutorial, we are using a small open-access database of video game sales records [stored on GitHub](https://github.com/bbrumm/databasestar/tree/main/sample_databases/sample_db_videogames/sqlite). We will be using the [SQLite](https://www.sqlite.org/index.html) version because SQLite is very compact, cross-platform, and has built-in Python support.\n",
    "\n",
    "### Software and Hardware Requirements\n",
    "\n",
    "We will be running the Jina Reranker v2 model locally. If you are using Google Colab to run this notebook, make sure you are using a runtime that has access to a GPU. If you are running it locally, you will need Python 3 \\(this tutorial was authored using a Python 3.11 installation) and it will run *much* faster with a CUDA-enabled GPU.\n",
    "\n",
    "We will also use the open-source [LlamaIndex RAG framework](https://www.llamaindex.ai/) extensively in this tutorial, and the [Hugging Face Inference API](https://huggingface.co/inference-api/serverless) to access Mistral 7B Instruct v0.1. You will need a [Hugging Face account](https://huggingface.co/login) and an [access token](https://huggingface.co/settings/tokens) with at least `READ` access.\n",
    "\n",
    "> [!WARNING]\n",
    "> If you are using Google Colab, SQLite is already installed. It may not be installed on your local computer.  If it's not installed, follow the instructions on the [SQLite website](https://www.sqlite.org/download.html) to install it. The Python interface code is built into Python and you don’t need to install any Python modules for it.\n"
   ]
  },
  {
   "cell_type": "markdown",
   "id": "G18FHmeE5_5Q",
   "metadata": {
    "id": "G18FHmeE5_5Q"
   },
   "source": [
    "## Setting Up"
   ]
  },
  {
   "cell_type": "markdown",
   "id": "c22zH-xVFEvV",
   "metadata": {
    "id": "c22zH-xVFEvV"
   },
   "source": [
    "### Install Requirements\n",
    "\n",
    "First, install the required Python modules:"
   ]
  },
  {
   "cell_type": "code",
   "execution_count": null,
   "id": "674424a4-8371-4010-a4b2-650d427a556d",
   "metadata": {
    "id": "674424a4-8371-4010-a4b2-650d427a556d"
   },
   "outputs": [],
   "source": [
    "!pip install -qU transformers einops llama-index llama-index-postprocessor-jinaai-rerank  llama-index-llms-huggingface \"huggingface_hub[inference]\""
   ]
  },
  {
   "cell_type": "markdown",
   "id": "EzhBY8pq_av9",
   "metadata": {
    "id": "EzhBY8pq_av9"
   },
   "source": [
    "### Download the Database\n",
    "\n",
    "Next, download the SQLite database `videogames.db` from [GitHub](https://github.com/bbrumm/databasestar/tree/main/sample_databases/sample_db_videogames/sqlite) to the local filespace If `wget` is not available on your system, download the database from [this link](https://github.com/bbrumm/databasestar/raw/main/sample_databases/sample_db_videogames/sqlite/videogames.db) and put it in the same directory where you're running this notebook:\n"
   ]
  },
  {
   "cell_type": "code",
   "execution_count": null,
   "id": "ec28e417-a4cb-4fab-a614-4867b84ec7f4",
   "metadata": {
    "id": "ec28e417-a4cb-4fab-a614-4867b84ec7f4"
   },
   "outputs": [],
   "source": [
    "!wget https://github.com/bbrumm/databasestar/raw/main/sample_databases/sample_db_videogames/sqlite/videogames.db"
   ]
  },
  {
   "cell_type": "markdown",
   "id": "3GY3Q13NINd0",
   "metadata": {
    "id": "3GY3Q13NINd0"
   },
   "source": [
    "### Download and Run Jina Reranker v2\n",
    "\n",
    "The following code will download the model `jina-reranker-v2-base-multilingual` and run it locally:\n"
   ]
  },
  {
   "cell_type": "code",
   "execution_count": null,
   "id": "KB8xGaNXIjAC",
   "metadata": {
    "id": "KB8xGaNXIjAC"
   },
   "outputs": [],
   "source": [
    "from transformers import AutoModelForSequenceClassification\n",
    "\n",
    "reranker_model = AutoModelForSequenceClassification.from_pretrained(\n",
    "    'jinaai/jina-reranker-v2-base-multilingual',\n",
    "    torch_dtype=\"auto\",\n",
    "    trust_remote_code=True,\n",
    ")\n",
    "\n",
    "reranker_model.to('cuda') # or 'cpu' if no GPU is available\n",
    "reranker_model.eval()\n"
   ]
  },
  {
   "cell_type": "markdown",
   "id": "SGgk4EmkOcy4",
   "metadata": {
    "id": "SGgk4EmkOcy4"
   },
   "source": [
    "### Set up the Interface to Mistral Instruct\n",
    "\n",
    "We will use LlamaIndex to create a holder object for the connection to the Hugging Face inference API and to the copy of `mistralai/Mixtral-8x7B-Instruct-v0.1` running there."
   ]
  },
  {
   "cell_type": "markdown",
   "id": "ee7bedf5-4730-4ac1-8a93-7f0135779d9b",
   "metadata": {
    "id": "ee7bedf5-4730-4ac1-8a93-7f0135779d9b"
   },
   "source": [
    "\n",
    "First, get a Hugging Face access token from your [Hugging Face Account Settings page](https://huggingface.co/settings/tokens).\n",
    "\n",
    "Enter it when prompted below:"
   ]
  },
  {
   "cell_type": "code",
   "execution_count": null,
   "id": "54122f11-e0c3-4e89-bf54-f0eece57cf71",
   "metadata": {
    "id": "54122f11-e0c3-4e89-bf54-f0eece57cf71"
   },
   "outputs": [],
   "source": [
    "import getpass\n",
    "\n",
    "print(\"Paste your Hugging Face access token here: \")\n",
    "hf_token = getpass.getpass()"
   ]
  },
  {
   "cell_type": "markdown",
   "id": "4HpY0xohPCWW",
   "metadata": {
    "id": "4HpY0xohPCWW"
   },
   "source": [
    "Next, initialize an instance of the `HuggingFaceInferenceAPI` class from LlamaIndex and store it as `mistral_llm`:"
   ]
  },
  {
   "cell_type": "code",
   "execution_count": null,
   "id": "e4a2ea12-d5d8-469b-afac-af9aed5b2240",
   "metadata": {
    "id": "e4a2ea12-d5d8-469b-afac-af9aed5b2240"
   },
   "outputs": [],
   "source": [
    "from llama_index.llms.huggingface import HuggingFaceInferenceAPI\n",
    "\n",
    "mistral_llm = HuggingFaceInferenceAPI(\n",
    "    model_name=\"mistralai/Mixtral-8x7B-Instruct-v0.1\", token=hf_token\n",
    ")"
   ]
  },
  {
   "cell_type": "markdown",
   "id": "9257efd9-806a-4ada-871a-406b397fe127",
   "metadata": {
    "id": "9257efd9-806a-4ada-871a-406b397fe127"
   },
   "source": [
    "## Using SQL-Aware Jina Reranker v2\n",
    "\n",
    "We extracted the eight table definitions from the [database import files located on GitHub](https://github.com/bbrumm/databasestar/tree/main/sample_databases/sample_db_videogames/sqlite). Run the command below to put them into a Python list named `table_declarations`:"
   ]
  },
  {
   "cell_type": "code",
   "execution_count": null,
   "id": "74677bb6-cec4-4ddc-8379-d13fb3366fb1",
   "metadata": {
    "id": "74677bb6-cec4-4ddc-8379-d13fb3366fb1"
   },
   "outputs": [],
   "source": [
    "table_declarations = ['CREATE TABLE platform (\\n\\tid INTEGER PRIMARY KEY,\\n\\tplatform_name TEXT DEFAULT NULL\\n);',\n",
    " 'CREATE TABLE genre (\\n\\tid INTEGER PRIMARY KEY,\\n\\tgenre_name TEXT DEFAULT NULL\\n);',\n",
    " 'CREATE TABLE publisher (\\n\\tid INTEGER PRIMARY KEY,\\n\\tpublisher_name TEXT DEFAULT NULL\\n);',\n",
    " 'CREATE TABLE region (\\n\\tid INTEGER PRIMARY KEY,\\n\\tregion_name TEXT DEFAULT NULL\\n);',\n",
    " 'CREATE TABLE game (\\n\\tid INTEGER PRIMARY KEY,\\n\\tgenre_id INTEGER,\\n\\tgame_name TEXT DEFAULT NULL,\\n\\tCONSTRAINT fk_gm_gen FOREIGN KEY (genre_id) REFERENCES genre(id)\\n);',\n",
    " 'CREATE TABLE game_publisher (\\n\\tid INTEGER PRIMARY KEY,\\n\\tgame_id INTEGER DEFAULT NULL,\\n\\tpublisher_id INTEGER DEFAULT NULL,\\n\\tCONSTRAINT fk_gpu_gam FOREIGN KEY (game_id) REFERENCES game(id),\\n\\tCONSTRAINT fk_gpu_pub FOREIGN KEY (publisher_id) REFERENCES publisher(id)\\n);',\n",
    " 'CREATE TABLE game_platform (\\n\\tid INTEGER PRIMARY KEY,\\n\\tgame_publisher_id INTEGER DEFAULT NULL,\\n\\tplatform_id INTEGER DEFAULT NULL,\\n\\trelease_year INTEGER DEFAULT NULL,\\n\\tCONSTRAINT fk_gpl_gp FOREIGN KEY (game_publisher_id) REFERENCES game_publisher(id),\\n\\tCONSTRAINT fk_gpl_pla FOREIGN KEY (platform_id) REFERENCES platform(id)\\n);',\n",
    " 'CREATE TABLE region_sales (\\n\\tregion_id INTEGER DEFAULT NULL,\\n\\tgame_platform_id INTEGER DEFAULT NULL,\\n\\tnum_sales REAL,\\n   CONSTRAINT fk_rs_gp FOREIGN KEY (game_platform_id) REFERENCES game_platform(id),\\n\\tCONSTRAINT fk_rs_reg FOREIGN KEY (region_id) REFERENCES region(id)\\n);']\n"
   ]
  },
  {
   "cell_type": "markdown",
   "id": "I8ZRU3bxQZUf",
   "metadata": {
    "id": "I8ZRU3bxQZUf"
   },
   "source": [
    "Now, we define a function that takes a natural language query and the list of table definitions, scores all of them with Jina Reranker v2, returning them in order from highest scoring to lowest:"
   ]
  },
  {
   "cell_type": "code",
   "execution_count": null,
   "id": "kJ_JwS-vQkj9",
   "metadata": {
    "id": "kJ_JwS-vQkj9"
   },
   "outputs": [],
   "source": [
    "from typing import List, Tuple\n",
    "\n",
    "def rank_tables(query: str, table_specs: List[str], top_n:int=0) -> List[Tuple[float, str]]:\n",
    "  \"\"\"\n",
    "  Get sorted pairs of scores and table specifications, then return the top N,\n",
    "  or all if top_n is 0 or default.\n",
    "  \"\"\"\n",
    "  pairs = [[query, table_spec] for table_spec in table_specs]\n",
    "  scores = reranker_model.compute_score(pairs)\n",
    "  scored_tables = [(score, table_spec) for score, table_spec in zip(scores, table_specs)]\n",
    "  scored_tables.sort(key=lambda x: x[0], reverse=True)\n",
    "  if top_n and top_n < len(scored_tables):\n",
    "    return scored_tables[0:top_n]\n",
    "  return scored_tables"
   ]
  },
  {
   "cell_type": "markdown",
   "id": "vk1YYqzesB-f",
   "metadata": {
    "id": "vk1YYqzesB-f"
   },
   "source": [
    "Jina Reranker v2 scores every table definition we give it and by default this function will return all of them with their scores. The optional argument `top_n` limits the number of results returned to a user-defined number, starting with the highest scoring one."
   ]
  },
  {
   "cell_type": "markdown",
   "id": "zD1rdBiYQa_H",
   "metadata": {
    "id": "zD1rdBiYQa_H"
   },
   "source": [
    "Try it out. First, define a query:"
   ]
  },
  {
   "cell_type": "code",
   "execution_count": null,
   "id": "4859647d-2bc2-4238-a5a1-235bed4c4f55",
   "metadata": {
    "id": "4859647d-2bc2-4238-a5a1-235bed4c4f55"
   },
   "outputs": [],
   "source": [
    "user_query = \"Identify the top 10 platforms by total sales.\""
   ]
  },
  {
   "cell_type": "markdown",
   "id": "H0O6qqMGRfu2",
   "metadata": {
    "id": "H0O6qqMGRfu2"
   },
   "source": [
    "Run `rank_tables` to get a list of table definitions back. Let's set `top_n` to 3 to limit the return list size and assign it to the variable `ranked_tables`, then inspect the result:"
   ]
  },
  {
   "cell_type": "code",
   "execution_count": null,
   "id": "0OU98s_aRWqM",
   "metadata": {
    "id": "0OU98s_aRWqM"
   },
   "outputs": [],
   "source": [
    "ranked_tables = rank_tables(user_query, table_declarations, top_n=3)\n",
    "ranked_tables"
   ]
  },
  {
   "cell_type": "markdown",
   "id": "1Oh7cX_WT-bc",
   "metadata": {
    "id": "1Oh7cX_WT-bc"
   },
   "source": [
    "The output should include the tables `region_sales`, `platform` and `game_platform`, which all seem to be reasonable places to look for an answer to the query."
   ]
  },
  {
   "cell_type": "markdown",
   "id": "adf28cd8-974a-457d-90b6-8719d8d860fc",
   "metadata": {
    "id": "adf28cd8-974a-457d-90b6-8719d8d860fc"
   },
   "source": [
    "## Using Mistral Instruct to Generate SQL\n",
    "\n",
    "We're going to have Mistral Instruct v0.1 write an SQL query that fulfils the user's query, based on the declarations of the top three tables according to the reranker."
   ]
  },
  {
   "cell_type": "markdown",
   "id": "df5d5f53-9cac-42ad-8ac8-627882e1046c",
   "metadata": {
    "id": "df5d5f53-9cac-42ad-8ac8-627882e1046c"
   },
   "source": [
    "First, we make a prompt for that purpose using LlamaIndex' `PromptTemplate` class:"
   ]
  },
  {
   "cell_type": "code",
   "execution_count": null,
   "id": "660c810a-96ff-4726-9bf1-8084ada9a80e",
   "metadata": {
    "id": "660c810a-96ff-4726-9bf1-8084ada9a80e"
   },
   "outputs": [],
   "source": [
    "from llama_index.core import PromptTemplate\n",
    "\n",
    "make_sql_prompt_tmpl_text = (\n",
    "    \"\"\"\n",
    "Generate a SQL query to answer the following question from the user:\n",
    "\\\"{query_str}\\\"\n",
    "\n",
    "The SQL query should use only tables with the following SQL definitions:\n",
    "\n",
    "Table 1:\n",
    "{table_1}\n",
    "\n",
    "Table 2:\n",
    "{table_2}\n",
    "\n",
    "Table 3:\n",
    "{table_3}\n",
    "\n",
    "Make sure you ONLY output an SQL query and no explanation.\n",
    "\"\"\"\n",
    ")\n",
    "make_sql_prompt_tmpl = PromptTemplate(make_sql_prompt_tmpl_text)"
   ]
  },
  {
   "cell_type": "markdown",
   "id": "594693a2-deb0-4c58-bc82-cb3d6428b1a4",
   "metadata": {
    "id": "594693a2-deb0-4c58-bc82-cb3d6428b1a4"
   },
   "source": [
    "We use the `format` method to fill in the template fields with the user query and top three table declarations from Jina Reranker v2:"
   ]
  },
  {
   "cell_type": "code",
   "execution_count": null,
   "id": "9f620d53-f459-45f9-936f-1d16a97ae357",
   "metadata": {
    "id": "9f620d53-f459-45f9-936f-1d16a97ae357"
   },
   "outputs": [],
   "source": [
    "make_sql_prompt = make_sql_prompt_tmpl.format(query_str=user_query,\n",
    "                                              table_1=ranked_tables[0][1],\n",
    "                                              table_2=ranked_tables[1][1],\n",
    "                                              table_3=ranked_tables[2][1])"
   ]
  },
  {
   "cell_type": "markdown",
   "id": "dafb58d0-2bfb-412a-ae0b-6cb88a797045",
   "metadata": {
    "id": "dafb58d0-2bfb-412a-ae0b-6cb88a797045"
   },
   "source": [
    "You can see the actual text we're going to pass to Mistral Instruct:"
   ]
  },
  {
   "cell_type": "code",
   "execution_count": null,
   "id": "bf1cd783-e823-4292-8b60-42a10c2e54c0",
   "metadata": {
    "id": "bf1cd783-e823-4292-8b60-42a10c2e54c0"
   },
   "outputs": [],
   "source": [
    "print(make_sql_prompt)"
   ]
  },
  {
   "cell_type": "markdown",
   "id": "df1d4d6b-5e8f-45fd-94bc-1bfe1819ea7a",
   "metadata": {
    "id": "df1d4d6b-5e8f-45fd-94bc-1bfe1819ea7a"
   },
   "source": [
    "Now let's send the prompt to Mistral Instruct and retrieve its response:"
   ]
  },
  {
   "cell_type": "code",
   "execution_count": null,
   "id": "c099c16b-4295-45e7-8dc0-a1ec4e1691b4",
   "metadata": {
    "id": "c099c16b-4295-45e7-8dc0-a1ec4e1691b4"
   },
   "outputs": [],
   "source": [
    "response = mistral_llm.complete(make_sql_prompt)\n",
    "sql_query = str(response)\n",
    "print(sql_query)"
   ]
  },
  {
   "cell_type": "markdown",
   "id": "ca5291a8-6435-4832-b9e5-8549fae2249b",
   "metadata": {
    "id": "ca5291a8-6435-4832-b9e5-8549fae2249b"
   },
   "source": [
    "## Running the SQL query\n",
    "\n",
    "Use the built-in Python interface to SQLite to run the query above\n",
    "against the database `videogames.db`:"
   ]
  },
  {
   "cell_type": "code",
   "execution_count": null,
   "id": "08492c60-4c45-40a3-9b90-fd1b3abafea9",
   "metadata": {
    "id": "08492c60-4c45-40a3-9b90-fd1b3abafea9"
   },
   "outputs": [],
   "source": [
    "import sqlite3\n",
    "\n",
    "con = sqlite3.connect(\"videogames.db\")\n",
    "cur = con.cursor()\n",
    "sql_response = cur.execute(sql_query).fetchall()"
   ]
  },
  {
   "cell_type": "markdown",
   "id": "LHqzMjSGrEKx",
   "metadata": {
    "id": "LHqzMjSGrEKx"
   },
   "source": [
    "For details on the interface to SQLite, [see the Python3 documentation](https://docs.python.org/3/library/sqlite3.html)."
   ]
  },
  {
   "cell_type": "markdown",
   "id": "7d8ea35a-04b5-477f-84d2-22b78fdd450f",
   "metadata": {
    "id": "7d8ea35a-04b5-477f-84d2-22b78fdd450f"
   },
   "source": [
    "Inspect the result:"
   ]
  },
  {
   "cell_type": "code",
   "execution_count": null,
   "id": "207b4e03-2061-4868-9d10-245c90615724",
   "metadata": {
    "id": "207b4e03-2061-4868-9d10-245c90615724"
   },
   "outputs": [],
   "source": [
    "sql_response"
   ]
  },
  {
   "cell_type": "markdown",
   "id": "2f50e18e-1771-4cca-b737-9362bb2c84a3",
   "metadata": {
    "id": "2f50e18e-1771-4cca-b737-9362bb2c84a3"
   },
   "source": [
    "You can check if this is correct by running your own SQL query. The sales data stored in this database is in the form of floating point numbers, presumably thousands or millions of unit sales."
   ]
  },
  {
   "cell_type": "markdown",
   "id": "286cae31-b645-48a3-8c1c-021f44f9f77d",
   "metadata": {
    "id": "286cae31-b645-48a3-8c1c-021f44f9f77d"
   },
   "source": [
    "## Getting a Natural Language Answer\n",
    "\n",
    "Now we will pass the user's query, the SQL query, and the result back to Mistral Instruct with a new prompt template.\n",
    "\n",
    "First, make the new prompt template using LlamaIndex, the same as above:"
   ]
  },
  {
   "cell_type": "code",
   "execution_count": null,
   "id": "48c9260a-62c0-4643-ba51-28432868c108",
   "metadata": {
    "id": "48c9260a-62c0-4643-ba51-28432868c108"
   },
   "outputs": [],
   "source": [
    "rag_prompt_tmpl_str = (\n",
    "    \"\"\"\n",
    "Use the information in the JSON table to answer the following user query.\n",
    "Do not explain anything, just answer concisely. Use natural language in your\n",
    "answer, not computer formatting.\n",
    "\n",
    "USER QUERY: {query_str}\n",
    "\n",
    "JSON table:\n",
    "{json_table}\n",
    "\n",
    "This table was generated by the following SQL query:\n",
    "{sql_query}\n",
    "\n",
    "Answer ONLY using the information in the table and the SQL query, and if the\n",
    "table does not provide the information to answer the question, answer\n",
    "\"No Information\".\n",
    "\"\"\"\n",
    ")\n",
    "rag_prompt_tmpl = PromptTemplate(rag_prompt_tmpl_str)"
   ]
  },
  {
   "cell_type": "markdown",
   "id": "78576d8c-30a0-4ab3-99ce-24c50d18a7b8",
   "metadata": {
    "id": "78576d8c-30a0-4ab3-99ce-24c50d18a7b8"
   },
   "source": [
    "We will convert the SQL output into JSON, a format Mistral Instruct v0.1\n",
    "understands.\n",
    "\n",
    "Populate the template fields:"
   ]
  },
  {
   "cell_type": "code",
   "execution_count": null,
   "id": "5631fa1e-dd8f-42db-82a7-f1e3a5544a40",
   "metadata": {
    "id": "5631fa1e-dd8f-42db-82a7-f1e3a5544a40"
   },
   "outputs": [],
   "source": [
    "import json\n",
    "\n",
    "rag_prompt = rag_prompt_tmpl.format(query_str=\"Identify the top 10 platforms by total sales\",\n",
    "                                    json_table=json.dumps(sql_response),\n",
    "                                    sql_query=sql_query)"
   ]
  },
  {
   "cell_type": "markdown",
   "id": "03c1092f-6715-459e-9402-1618729d419c",
   "metadata": {
    "id": "03c1092f-6715-459e-9402-1618729d419c"
   },
   "source": [
    "Now solicit a natural language response from Mistral Instruct:"
   ]
  },
  {
   "cell_type": "code",
   "execution_count": null,
   "id": "70efddbb-8514-4985-9126-bbb9a55d0c63",
   "metadata": {
    "id": "70efddbb-8514-4985-9126-bbb9a55d0c63"
   },
   "outputs": [],
   "source": [
    "rag_response = mistral_llm.complete(rag_prompt)\n",
    "print(str(rag_response))"
   ]
  },
  {
   "cell_type": "markdown",
   "id": "60d0fe8f-1f67-44fb-bd90-a8a786086e99",
   "metadata": {
    "id": "60d0fe8f-1f67-44fb-bd90-a8a786086e99"
   },
   "source": [
    "## Try it yourself\n",
    "\n",
    "Let's organize all that into one function with exception trapping:"
   ]
  },
  {
   "cell_type": "code",
   "execution_count": null,
   "id": "1bbc48a6-e456-4b1f-9949-720b18230c8b",
   "metadata": {
    "id": "1bbc48a6-e456-4b1f-9949-720b18230c8b"
   },
   "outputs": [],
   "source": [
    "def answer_sql(user_query: str) -> str:\n",
    "  try:\n",
    "    ranked_tables = rank_tables(user_query, table_declarations, top_n=3)\n",
    "  except Exception as e:\n",
    "    print(f\"Ranking failed.\\nUser query:\\n{user_query}\\n\\n\")\n",
    "    raise(e)\n",
    "\n",
    "  make_sql_prompt = make_sql_prompt_tmpl.format(query_str=user_query,\n",
    "                                                table_1=ranked_tables[0][1],\n",
    "                                                table_2=ranked_tables[1][1],\n",
    "                                                table_3=ranked_tables[2][1])\n",
    "\n",
    "  try:\n",
    "    response = mistral_llm.complete(make_sql_prompt)\n",
    "  except Exception as e:\n",
    "    print(f\"SQL query generation failed\\nPrompt:\\n{make_sql_prompt}\\n\\n\")\n",
    "    raise(e)\n",
    "\n",
    "  # Backslash removal is a necessary hack because sometimes Mistral puts them\n",
    "  # in its generated code.\n",
    "  sql_query = str(response).replace(\"\\\\\", \"\")\n",
    "\n",
    "  try:\n",
    "    sql_response = sqlite3.connect(\"videogames.db\").cursor().execute(sql_query).fetchall()\n",
    "  except Exception as e:\n",
    "    print(f\"SQL querying failed. Query:\\n{sql_query}\\n\\n\")\n",
    "    raise(e)\n",
    "\n",
    "  rag_prompt = rag_prompt_tmpl.format(query_str=user_query,\n",
    "                                      json_table=json.dumps(sql_response),\n",
    "                                      sql_query=sql_query)\n",
    "  try:\n",
    "    rag_response = mistral_llm.complete(rag_prompt)\n",
    "    return str(rag_response)\n",
    "  except Exception as e:\n",
    "    print(f\"Answer generation failed. Prompt:\\n{rag_prompt}\\n\\n\")\n",
    "    raise(e)"
   ]
  },
  {
   "cell_type": "markdown",
   "id": "5af30fba-d380-42da-97b8-00e5ead978e8",
   "metadata": {
    "id": "5af30fba-d380-42da-97b8-00e5ead978e8"
   },
   "source": [
    "Try it out:"
   ]
  },
  {
   "cell_type": "code",
   "execution_count": null,
   "id": "5ce3d50d-6f96-4647-a584-c9f70e400449",
   "metadata": {
    "id": "5ce3d50d-6f96-4647-a584-c9f70e400449"
   },
   "outputs": [],
   "source": [
    "print(answer_sql(\"Identify the top 10 platforms by total sales.\"))"
   ]
  },
  {
   "cell_type": "markdown",
   "id": "0fde4b5a-1b1f-4142-9c8b-30695149db6b",
   "metadata": {
    "id": "0fde4b5a-1b1f-4142-9c8b-30695149db6b"
   },
   "source": [
    "Try some other queries:"
   ]
  },
  {
   "cell_type": "code",
   "execution_count": null,
   "id": "00d4071c-657f-495d-ba8f-112bb7286943",
   "metadata": {
    "id": "00d4071c-657f-495d-ba8f-112bb7286943"
   },
   "outputs": [],
   "source": [
    "print(answer_sql(\"Summarize sales by region.\"))"
   ]
  },
  {
   "cell_type": "code",
   "execution_count": null,
   "id": "dc6d927e-be00-4476-936f-34acdf7730fe",
   "metadata": {
    "id": "dc6d927e-be00-4476-936f-34acdf7730fe"
   },
   "outputs": [],
   "source": [
    "print(answer_sql(\"List the publisher with the largest number of published games.\"))"
   ]
  },
  {
   "cell_type": "code",
   "execution_count": null,
   "id": "e4522592-4b82-440c-afa4-7379dedc19d8",
   "metadata": {
    "id": "e4522592-4b82-440c-afa4-7379dedc19d8"
   },
   "outputs": [],
   "source": [
    "print(answer_sql(\"Display the year with most games released.\"))"
   ]
  },
  {
   "cell_type": "code",
   "execution_count": null,
   "id": "95550428-4a0b-4324-bb0c-719ba0026b77",
   "metadata": {
    "id": "95550428-4a0b-4324-bb0c-719ba0026b77"
   },
   "outputs": [],
   "source": [
    "print(answer_sql(\"What is the most popular game genre on the Wii platform?\"))"
   ]
  },
  {
   "cell_type": "code",
   "execution_count": null,
   "id": "eb3de1f5-7e62-4370-a6eb-311485031fe1",
   "metadata": {
    "id": "eb3de1f5-7e62-4370-a6eb-311485031fe1"
   },
   "outputs": [],
   "source": [
    "print(answer_sql(\"What is the most popular game genre of 2012?\"))"
   ]
  },
  {
   "cell_type": "markdown",
   "id": "9cdffc3f-5636-4383-bccb-b7dfa1f2745a",
   "metadata": {
    "id": "9cdffc3f-5636-4383-bccb-b7dfa1f2745a"
   },
   "source": [
    "Try your own queries:\n"
   ]
  },
  {
   "cell_type": "code",
   "execution_count": null,
   "id": "553c721f-f80c-4e2c-a77f-fb2b59d1b555",
   "metadata": {
    "id": "553c721f-f80c-4e2c-a77f-fb2b59d1b555"
   },
   "outputs": [],
   "source": [
    "print(answer_sql(\"<INSERT QUESTION OR INSTRUCTION HERE>\"))"
   ]
  },
  {
   "cell_type": "markdown",
   "id": "-srB-MOMk1b-",
   "metadata": {
    "id": "-srB-MOMk1b-"
   },
   "source": [
    "## Review and Conclusions\n",
    "\n",
    "We've shown you how to make a very basic RAG (retrieval-augmented generation) system for natural language question-answering that uses an SQL database as an information source.  In this implementation, we use the same large language model (Mistral Instruct v0.1), to generate SQL queries and to construct natural language responses.\n",
    "\n",
    "The database here is a very small example, and scaling this up might demand a more sophisticated approach than just ranking a list of table definitions. You might want to use a two-stage process, where an embedding model and vector store initially retrieve more results, but the reranker model prunes that down to whatever number you are able to put into a prompt for a generative language model.\n",
    "\n",
    "This notebook has assumed no request requires more than three tables to satisfy, and obviously, in practice, this cannot always be true. Mistral 7B Instruct v0.1 is not guaranteed to produce correct (or even executable) SQL output. In production, something like this requires much more in-depth error handling.\n",
    "\n",
    "More sophisticated error handling, longer input context windows, and generative models specialized in SQL-specific tasks might make a big difference in practical applications.\n",
    "\n",
    "Nonetheless, you can see here how the RAG concept extends to structured databases, expanding its scope for use dramatically."
   ]
  }
 ],
 "metadata": {
  "accelerator": "GPU",
  "colab": {
   "gpuType": "T4",
   "provenance": []
  },
  "kernelspec": {
   "display_name": "Python 3 (ipykernel)",
   "language": "python",
   "name": "python3"
  },
  "language_info": {
   "codemirror_mode": {
    "name": "ipython",
    "version": 3
   },
   "file_extension": ".py",
   "mimetype": "text/x-python",
   "name": "python",
   "nbconvert_exporter": "python",
   "pygments_lexer": "ipython3",
   "version": "3.11.7"
  }
 },
 "nbformat": 4,
 "nbformat_minor": 5
}
